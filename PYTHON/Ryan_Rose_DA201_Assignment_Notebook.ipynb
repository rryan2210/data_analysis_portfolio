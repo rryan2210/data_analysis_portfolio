{
 "cells": [
  {
   "cell_type": "markdown",
   "id": "eb92d5a7",
   "metadata": {},
   "source": [
    "### LSE Data Analytics Online Career Accelerator\n",
    "\n",
    "# Course 2: Data Analytics using Python"
   ]
  },
  {
   "cell_type": "markdown",
   "id": "0ea7e113",
   "metadata": {},
   "source": [
    "## Assignment: Diagnostic Analysis using Python\n",
    "\n",
    "You’ll be working with real-world data to address a problem faced by the National Health Service (NHS). The analysis will require you to utilise Python to explore the available data, create visualisations to identify trends, and extract meaningful insights to inform decision-making. "
   ]
  },
  {
   "cell_type": "markdown",
   "id": "ef6d24b2",
   "metadata": {},
   "source": [
    "# "
   ]
  },
  {
   "cell_type": "markdown",
   "id": "0834b036",
   "metadata": {},
   "source": [
    "# Assignment activity 1"
   ]
  },
  {
   "cell_type": "markdown",
   "id": "8b40c558",
   "metadata": {},
   "source": [
    "### Insert proof of your GitHub repository. This can be a link or screenshot showing your repo."
   ]
  },
  {
   "cell_type": "code",
   "execution_count": null,
   "id": "984dc1db",
   "metadata": {},
   "outputs": [],
   "source": [
    "# My GitHub repository.\n",
    "\n",
    "print('My Github repository:')"
   ]
  },
  {
   "cell_type": "markdown",
   "id": "faa72527",
   "metadata": {},
   "source": [
    "https://github.com/rryan2210/rryan2210"
   ]
  },
  {
   "cell_type": "markdown",
   "id": "af0f600f",
   "metadata": {},
   "source": [
    "# "
   ]
  },
  {
   "cell_type": "markdown",
   "id": "c010a760",
   "metadata": {},
   "source": [
    "# Assignment activity 2"
   ]
  },
  {
   "cell_type": "markdown",
   "id": "550d4c5b",
   "metadata": {},
   "source": [
    "### Prepare your workstation"
   ]
  },
  {
   "cell_type": "code",
   "execution_count": null,
   "id": "ef565e11",
   "metadata": {},
   "outputs": [],
   "source": [
    "# Import the necessary libraries.\n",
    "import pandas as pd\n",
    "import numpy as np"
   ]
  },
  {
   "cell_type": "code",
   "execution_count": null,
   "id": "624d89f2",
   "metadata": {},
   "outputs": [],
   "source": [
    "# Import and sense-check the actual_duration.csv data set as ad.\n",
    "ad = pd.read_csv('actual_duration.csv')\n",
    "\n",
    "# View the DataFrame.              \n",
    "ad"
   ]
  },
  {
   "cell_type": "code",
   "execution_count": null,
   "id": "683c608a",
   "metadata": {},
   "outputs": [],
   "source": [
    "# Determine the metadata of the data set.\n",
    "print(ad.shape)\n",
    "print(ad.columns)\n",
    "print(ad.dtypes)\n",
    "ad.head()"
   ]
  },
  {
   "cell_type": "code",
   "execution_count": null,
   "id": "909f5414",
   "metadata": {},
   "outputs": [],
   "source": [
    "# Determine the metadata of the data set.\n",
    "ad.info()"
   ]
  },
  {
   "cell_type": "code",
   "execution_count": null,
   "id": "d50c044a",
   "metadata": {},
   "outputs": [],
   "source": [
    "# Determine the descriptive statistics of the data set.\n",
    "ad.describe()"
   ]
  },
  {
   "cell_type": "code",
   "execution_count": null,
   "id": "2937b99c",
   "metadata": {},
   "outputs": [],
   "source": [
    "# Determine whether there are missing values\n",
    "ad.isna().sum()"
   ]
  },
  {
   "cell_type": "code",
   "execution_count": null,
   "id": "f694cd9d",
   "metadata": {},
   "outputs": [],
   "source": [
    "# Import and sense-check the appointments_regional.csv data set as ar.\n",
    "ar = pd.read_csv('appointments_regional.csv')\n",
    "\n",
    "# View the DataFrame.               \n",
    "ar"
   ]
  },
  {
   "cell_type": "code",
   "execution_count": null,
   "id": "1e4d6856",
   "metadata": {},
   "outputs": [],
   "source": [
    "# Determine the metadata of the data set.\n",
    "print(ar.shape)\n",
    "print(ar.columns)\n",
    "print(ar.dtypes)\n",
    "ar.head()"
   ]
  },
  {
   "cell_type": "code",
   "execution_count": null,
   "id": "13845599",
   "metadata": {},
   "outputs": [],
   "source": [
    "# Determine the metadata of the data set.\n",
    "ar.info()"
   ]
  },
  {
   "cell_type": "code",
   "execution_count": null,
   "id": "a16f131f",
   "metadata": {},
   "outputs": [],
   "source": [
    "# Determine the descriptive statistics of the data set.\n",
    "ar.describe()"
   ]
  },
  {
   "cell_type": "code",
   "execution_count": null,
   "id": "a2e06f6a",
   "metadata": {},
   "outputs": [],
   "source": [
    "# Determine whether there are missing values\n",
    "ar.isna().sum()"
   ]
  },
  {
   "cell_type": "code",
   "execution_count": null,
   "id": "c8fd49b5",
   "metadata": {},
   "outputs": [],
   "source": [
    "# Import and sense-check the national_categories.xlsx data set as nc.\n",
    "nc = pd.read_excel('national_categories.xlsx')\n",
    "\n",
    "# View the DataFrame.\n",
    "nc"
   ]
  },
  {
   "cell_type": "code",
   "execution_count": null,
   "id": "0d46803e",
   "metadata": {},
   "outputs": [],
   "source": [
    "# Determine the metadata of the data set.\n",
    "print(nc.shape)\n",
    "print(nc.columns)\n",
    "print(nc.dtypes)\n",
    "nc.head()"
   ]
  },
  {
   "cell_type": "code",
   "execution_count": null,
   "id": "9ca9d7e6",
   "metadata": {},
   "outputs": [],
   "source": [
    "# Determine the metadata of the data set.\n",
    "nc.info()"
   ]
  },
  {
   "cell_type": "code",
   "execution_count": null,
   "id": "cce8f003",
   "metadata": {},
   "outputs": [],
   "source": [
    "# Determine the descriptive statistics of the data set.\n",
    "nc.describe()"
   ]
  },
  {
   "cell_type": "code",
   "execution_count": null,
   "id": "f22a90cf",
   "metadata": {},
   "outputs": [],
   "source": [
    "# Determine whether there are missing values\n",
    "nc.isna().sum()"
   ]
  },
  {
   "cell_type": "markdown",
   "id": "f86ea066",
   "metadata": {},
   "source": [
    "### Explore the data set"
   ]
  },
  {
   "cell_type": "markdown",
   "id": "333a607a",
   "metadata": {},
   "source": [
    "**Question 1:** How many locations are there in the data set?"
   ]
  },
  {
   "cell_type": "code",
   "execution_count": null,
   "id": "749cdb45",
   "metadata": {},
   "outputs": [],
   "source": [
    "# Determine the number of locations.\n",
    "uniqueValues = nc['sub_icb_location_name'].nunique()\n",
    "print('Number of locations:')\n",
    "print(uniqueValues)"
   ]
  },
  {
   "cell_type": "markdown",
   "id": "93f0ce86",
   "metadata": {},
   "source": [
    "**Question 2:** What are the five locations with the highest number of records?\n",
    "\n"
   ]
  },
  {
   "cell_type": "code",
   "execution_count": null,
   "id": "9e7c3913",
   "metadata": {},
   "outputs": [],
   "source": [
    "# Determine the top five locations based on record count.\n",
    "print('Top five locations based on record count, in descending order:')\n",
    "nc['sub_icb_location_name'].value_counts().head(5)"
   ]
  },
  {
   "cell_type": "markdown",
   "id": "d75405a5",
   "metadata": {},
   "source": [
    "**Question 3:** How many service settings, context types, national categories, and appointment statuses are there?"
   ]
  },
  {
   "cell_type": "code",
   "execution_count": null,
   "id": "8bb34784",
   "metadata": {},
   "outputs": [],
   "source": [
    "# Determine the number of service settings.\n",
    "uniqueValues = nc['service_setting'].nunique()\n",
    "print('Number of service settings:')\n",
    "print(uniqueValues)"
   ]
  },
  {
   "cell_type": "code",
   "execution_count": null,
   "id": "094f3792",
   "metadata": {},
   "outputs": [],
   "source": [
    "# Determine the number of context types.\n",
    "uniqueValues = nc['context_type'].nunique()\n",
    "print('Number of context types:')\n",
    "print(uniqueValues)"
   ]
  },
  {
   "cell_type": "code",
   "execution_count": null,
   "id": "e7d8cf1b",
   "metadata": {},
   "outputs": [],
   "source": [
    "# Determine the number of national categories.\n",
    "uniqueValues = nc['national_category'].nunique()\n",
    "print('Number of national categories:')\n",
    "print(uniqueValues)"
   ]
  },
  {
   "cell_type": "code",
   "execution_count": null,
   "id": "3cc2f7aa",
   "metadata": {},
   "outputs": [],
   "source": [
    "# Determine the number of appointment statuses.\n",
    "uniqueValues = ar['appointment_status'].nunique()\n",
    "print('Number of appointment statuses:')\n",
    "print(uniqueValues)"
   ]
  },
  {
   "cell_type": "markdown",
   "id": "7c3429c3",
   "metadata": {},
   "source": [
    "# "
   ]
  },
  {
   "cell_type": "markdown",
   "id": "edf661d9",
   "metadata": {},
   "source": [
    "# Assignment activity 3"
   ]
  },
  {
   "cell_type": "markdown",
   "id": "be5393dd",
   "metadata": {},
   "source": [
    "### Continue to explore the data and search for answers to more specific questions posed by the NHS."
   ]
  },
  {
   "cell_type": "markdown",
   "id": "a742e563",
   "metadata": {},
   "source": [
    "**Question 1:** Between what dates were appointments scheduled? "
   ]
  },
  {
   "cell_type": "code",
   "execution_count": null,
   "id": "6d3e53a7",
   "metadata": {},
   "outputs": [],
   "source": [
    "# View the first five rows of appointment_date for the ad DataFrame to determine the date format.\n",
    "ad.head(5)"
   ]
  },
  {
   "cell_type": "code",
   "execution_count": null,
   "id": "d32fb602",
   "metadata": {},
   "outputs": [],
   "source": [
    "# View the first five rows of appointment_date for the nc DataFrame to determine the date format.\n",
    "nc.head(5)"
   ]
  },
  {
   "cell_type": "code",
   "execution_count": null,
   "id": "05a60b63",
   "metadata": {},
   "outputs": [],
   "source": [
    "# Change the date format of ad['appointment_date'].\n",
    "ad['appointment_date'] = pd.to_datetime(ad['appointment_date'])\n",
    "\n",
    "# View the DataFrame.\n",
    "ad.head(5)"
   ]
  },
  {
   "cell_type": "code",
   "execution_count": null,
   "id": "b73db1bf",
   "metadata": {},
   "outputs": [],
   "source": [
    "# Change the date format of ar['appointment_date'].\n",
    "ar['appointment_month'] = pd.to_datetime(ar['appointment_month'])\n",
    "\n",
    "# View the DataFrame.\n",
    "ar.head(5)"
   ]
  },
  {
   "cell_type": "code",
   "execution_count": null,
   "id": "28e6b2fa",
   "metadata": {},
   "outputs": [],
   "source": [
    "# Determine the minimum and maximum dates in the ad DataFrame.\n",
    "# Use appropriate docstrings.\n",
    "ad['appointment_date'] = pd.to_datetime(ad['appointment_date'])\n",
    "print('Earliest appointment date:')\n",
    "print(ad['appointment_date'].dt.date.min())\n",
    "print('Latest appointment date:')\n",
    "print(ad['appointment_date'].dt.date.max())"
   ]
  },
  {
   "cell_type": "code",
   "execution_count": null,
   "id": "87072228",
   "metadata": {},
   "outputs": [],
   "source": [
    "# Determine the minimum and maximum dates in the nc DataFrame.\n",
    "# Use appropriate docstrings.\n",
    "nc['appointment_date'] = pd.to_datetime(nc['appointment_date'])\n",
    "print('Earliest appointment date:')\n",
    "print(nc['appointment_date'].dt.date.min())\n",
    "print('Latest appointment date:')            \n",
    "print(nc['appointment_date'].dt.date.max())"
   ]
  },
  {
   "cell_type": "code",
   "execution_count": null,
   "id": "72ae9228",
   "metadata": {},
   "outputs": [],
   "source": [
    "# Determine the minimum and maximum dates in the ad DataFrame.\n",
    "# (duplicated of cell above due to suspected typo of 'nc')\n",
    "\n",
    "# Use appropriate docstrings.\n",
    "ad['appointment_date'] = pd.to_datetime(ad['appointment_date'])\n",
    "print('Earliest appointment date:')\n",
    "print(ad['appointment_date'].dt.date.min())\n",
    "print('Latest appointment date:')            \n",
    "print(ad['appointment_date'].dt.date.max())"
   ]
  },
  {
   "cell_type": "markdown",
   "id": "f41ad664",
   "metadata": {},
   "source": [
    "**Question 2:** Which service setting was the most popular for NHS North West London from 1 January to 1 June 2022?"
   ]
  },
  {
   "cell_type": "code",
   "execution_count": null,
   "id": "b577ca5f",
   "metadata": {},
   "outputs": [],
   "source": [
    "# For each of these service settings, determine the number of records available for the period and the location. \n",
    "nc_subset = nc[nc['sub_icb_location_name'] == 'NHS North West London ICB - W2U3Z']\n",
    "\n",
    "date_filter = (nc_subset['appointment_date'] > '2022-01-01') &  (nc_subset['appointment_date'] < '2022-06-01')\n",
    "\n",
    "# View the output.\n",
    "print('Most popular service setting for NHS North West London from 1 January 2022 to 1 June 2022:')\n",
    "print(nc_subset[date_filter]['service_setting'].value_counts())"
   ]
  },
  {
   "cell_type": "markdown",
   "id": "7ac94132",
   "metadata": {},
   "source": [
    "**Question 3:** Which month had the highest number of appointments?"
   ]
  },
  {
   "cell_type": "code",
   "execution_count": null,
   "id": "6084c6d1",
   "metadata": {},
   "outputs": [],
   "source": [
    "# Number of appointments per month == sum of count_of_appointments by month.\n",
    "# Use the groupby() and sort_values() functions.\n",
    "\n",
    "app_per_month = nc.groupby('appointment_month')['count_of_appointments'].sum()\n",
    "\n",
    "app_per_month_sorted = app_per_month.sort_values(ascending=False)\n",
    "\n",
    "print('Month with the highest number of appointments:')\n",
    "topmonth=app_per_month_sorted.idxmax()\n",
    "print(topmonth)"
   ]
  },
  {
   "cell_type": "markdown",
   "id": "b28a49a5",
   "metadata": {},
   "source": [
    "**Question 4:** What was the total number of records per month?"
   ]
  },
  {
   "cell_type": "code",
   "execution_count": null,
   "id": "00668a95",
   "metadata": {},
   "outputs": [],
   "source": [
    "# Total number of records per month\n",
    "app_per_month = nc.groupby('appointment_month')['count_of_appointments'].sum()\n",
    "\n",
    "print('Number of appointments per month, in chronological order:')\n",
    "print(app_per_month)"
   ]
  },
  {
   "cell_type": "markdown",
   "id": "7aba0dca",
   "metadata": {},
   "source": [
    "# "
   ]
  },
  {
   "cell_type": "markdown",
   "id": "3a2caa91",
   "metadata": {},
   "source": [
    "# Assignment activity 4"
   ]
  },
  {
   "cell_type": "markdown",
   "id": "946a2948",
   "metadata": {},
   "source": [
    "### Create visualisations and identify possible monthly and seasonal trends in the data."
   ]
  },
  {
   "cell_type": "code",
   "execution_count": null,
   "id": "c833e1ab",
   "metadata": {},
   "outputs": [],
   "source": [
    "# Import the necessary libraries.\n",
    "import seaborn as sns\n",
    "import matplotlib.pyplot as plt\n",
    "\n",
    "# Set figure size.\n",
    "sns.set(rc={'figure.figsize':(15, 12)})\n",
    "\n",
    "# Set the plot style as white.\n",
    "sns.set_style('white')"
   ]
  },
  {
   "cell_type": "markdown",
   "id": "9bb9d65d",
   "metadata": {},
   "source": [
    "### Objective 1\n",
    "Create three visualisations indicating the number of appointments per month for service settings, context types, and national categories."
   ]
  },
  {
   "cell_type": "code",
   "execution_count": null,
   "id": "e1ba886c",
   "metadata": {
    "scrolled": false
   },
   "outputs": [],
   "source": [
    "# Change the data type of the appointment month to string to allow for easier plotting.\n",
    "nc = nc.astype({'appointment_month':'string'})\n",
    "\n",
    "# Check that the data type of the appointment month has been changed to string\n",
    "checkmonth = nc.dtypes['appointment_month']\n",
    "print('Data type of appointment_month column:')\n",
    "print(checkmonth)"
   ]
  },
  {
   "cell_type": "code",
   "execution_count": null,
   "id": "63160f27",
   "metadata": {},
   "outputs": [],
   "source": [
    "# Aggregate on monthly level and determine the sum of records per month.\n",
    "agg = nc.groupby('appointment_month')['count_of_appointments'].aggregate('sum')\n",
    "\n",
    "# View output.\n",
    "print('Sum of records per month:')\n",
    "print(agg)"
   ]
  },
  {
   "cell_type": "markdown",
   "id": "b82916ae",
   "metadata": {},
   "source": [
    "**Service settings:**"
   ]
  },
  {
   "cell_type": "code",
   "execution_count": null,
   "id": "485b51c6",
   "metadata": {},
   "outputs": [],
   "source": [
    "# Plot the appointments over the available date range, and review the service settings for months.\n",
    "# Create a lineplot.\n",
    "sns.lineplot(x='appointment_month', y='count_of_appointments', hue='service_setting', data=nc, errorbar = None)\n",
    "\n",
    "plt.title('Number of appointments by Service Setting by Month')\n",
    "plt.xlabel('Appointment month', fontsize=12)\n",
    "plt.ylabel('Count of appointments', fontsize=12)\n",
    "plt.legend(title='Service settings')\n",
    "\n",
    "plt.savefig('Service settings.png')"
   ]
  },
  {
   "cell_type": "markdown",
   "id": "8145c8d9",
   "metadata": {},
   "source": [
    "**Context types:**"
   ]
  },
  {
   "cell_type": "code",
   "execution_count": null,
   "id": "ca2aa462",
   "metadata": {},
   "outputs": [],
   "source": [
    "# Plot the appointments over the available date range, and review the context types for months.\n",
    "# Create a lineplot.\n",
    "sns.lineplot(x='appointment_month', y='count_of_appointments', hue='context_type', data=nc, errorbar = None) \n",
    "\n",
    "plt.title('Number of appointments by Context type by Month')\n",
    "plt.xlabel('Appointment month', fontsize=12)\n",
    "plt.ylabel('Count of appointments', fontsize=12)\n",
    "plt.legend(title='Context types')\n",
    "\n",
    "plt.savefig('Context types.png')"
   ]
  },
  {
   "cell_type": "markdown",
   "id": "e7d64afe",
   "metadata": {},
   "source": [
    "**National categories:**"
   ]
  },
  {
   "cell_type": "code",
   "execution_count": null,
   "id": "6ccc0541",
   "metadata": {},
   "outputs": [],
   "source": [
    "# Plot the appointments over the available date range, and review the national categories for months.\n",
    "# Create a lineplot.\n",
    "sns.lineplot(x='appointment_month', y='count_of_appointments', hue='national_category', data=nc, errorbar= None)\n",
    "\n",
    "plt.title('Number of appointments by National category by month')\n",
    "plt.xlabel('Appointment month', fontsize=12)\n",
    "plt.ylabel('Count of appointments', fontsize=12)\n",
    "plt.legend(title='National categories')\n",
    "\n",
    "plt.savefig('National categories.png')"
   ]
  },
  {
   "cell_type": "markdown",
   "id": "a8e70f6b",
   "metadata": {},
   "source": [
    "### Objective 2\n",
    "Create four visualisations indicating the number of appointments for service setting per season. The seasons are summer (August 2021), autumn (October 2021), winter (January 2022), and spring (April 2022)."
   ]
  },
  {
   "cell_type": "markdown",
   "id": "9f2e1169",
   "metadata": {},
   "source": [
    "**Summer (August 2021):**"
   ]
  },
  {
   "cell_type": "code",
   "execution_count": null,
   "id": "b7f7857c",
   "metadata": {},
   "outputs": [],
   "source": [
    "# Look at August 2021 in more detail to allow a closer look.\n",
    "# Filter the nc Dataframe by appointments in August 2021\n",
    "summer = nc[nc['appointment_month']=='2021-08']\n",
    "\n",
    "#Check the dates in the filtered Dataframe\n",
    "print('Min date:')\n",
    "print(summer['appointment_date'].dt.date.min())\n",
    "print('Max date:')\n",
    "print(summer['appointment_date'].dt.date.max())"
   ]
  },
  {
   "cell_type": "code",
   "execution_count": null,
   "id": "ae67ce9f",
   "metadata": {},
   "outputs": [],
   "source": [
    "# Create a lineplot.\n",
    "sns.lineplot(x='appointment_date', y='count_of_appointments', hue='national_category', data=summer, errorbar= None)\n",
    "plt.title('Number of appointments by National category by month, August 2021')\n",
    "plt.xlabel('Appointment date', fontsize=12)\n",
    "plt.ylabel('Count of appointments', fontsize=12)\n",
    "plt.legend(title='National Categories')"
   ]
  },
  {
   "cell_type": "markdown",
   "id": "5d356e45",
   "metadata": {},
   "source": [
    "**Autumn (October 2021):**"
   ]
  },
  {
   "cell_type": "code",
   "execution_count": null,
   "id": "fedd3cb6",
   "metadata": {},
   "outputs": [],
   "source": [
    "# Look at October 2021 in more detail to allow a closer look.\n",
    "# Filter the nc Dataframe by appointments in October 2021\n",
    "autumn = nc[nc['appointment_month']=='2021-10']\n",
    "\n",
    "# Check the dates in the filtered Dataframe\n",
    "print('Min date:')\n",
    "print(autumn['appointment_date'].dt.date.min())\n",
    "print('Max date:')\n",
    "print(autumn['appointment_date'].dt.date.max())"
   ]
  },
  {
   "cell_type": "code",
   "execution_count": null,
   "id": "30008a56",
   "metadata": {},
   "outputs": [],
   "source": [
    "# Create a lineplot.\n",
    "sns.lineplot(x='appointment_date', y='count_of_appointments', hue='national_category', data=autumn, errorbar= None)\n",
    "plt.title('Number of appointments by National category by month, October 2021')\n",
    "plt.xlabel('Appointment date', fontsize=12)\n",
    "plt.ylabel('Count of appointments', fontsize=12)\n",
    "plt.legend(title='National Categories')"
   ]
  },
  {
   "cell_type": "markdown",
   "id": "adf4194a",
   "metadata": {},
   "source": [
    "**Winter (January 2022):**"
   ]
  },
  {
   "cell_type": "code",
   "execution_count": null,
   "id": "ffca2ed1",
   "metadata": {},
   "outputs": [],
   "source": [
    "# Look at January 2022 in more detail to allow a closer look.\n",
    "# Filter the nc Dataframe by appointments in January 2022\n",
    "winter = nc[nc['appointment_month']=='2022-01']\n",
    "\n",
    "#Check the dates in the filtered Dataframe\n",
    "print('Min date:')\n",
    "print(winter['appointment_date'].dt.date.min())\n",
    "print('Max date:')\n",
    "print(winter['appointment_date'].dt.date.max())"
   ]
  },
  {
   "cell_type": "code",
   "execution_count": null,
   "id": "e7992dfc",
   "metadata": {},
   "outputs": [],
   "source": [
    "# Create a lineplot.\n",
    "sns.lineplot(x='appointment_date', y='count_of_appointments', hue='national_category', data=winter, errorbar= None)\n",
    "plt.title('Number of appointments by National category by month, January 2022')\n",
    "plt.xlabel('Appointment date', fontsize=12)\n",
    "plt.ylabel('Count of appointments', fontsize=12)\n",
    "plt.legend(title='National Categories')"
   ]
  },
  {
   "cell_type": "markdown",
   "id": "fd411d37",
   "metadata": {},
   "source": [
    "**Spring (April 2022):**"
   ]
  },
  {
   "cell_type": "code",
   "execution_count": null,
   "id": "a0853a10",
   "metadata": {},
   "outputs": [],
   "source": [
    "# Look at April 2022 in more detail to allow a closer look.\n",
    "# Filter the nc Dataframe by appointments in April 2022\n",
    "spring = nc[nc['appointment_month']=='2022-04']\n",
    "\n",
    "# Check the dates in the filtered Dataframe\n",
    "print('Min date:')\n",
    "print(spring['appointment_date'].dt.date.min())\n",
    "print('Max date:')\n",
    "print(spring['appointment_date'].dt.date.max())"
   ]
  },
  {
   "cell_type": "code",
   "execution_count": null,
   "id": "74f43b1d",
   "metadata": {},
   "outputs": [],
   "source": [
    "# Create a lineplot.\n",
    "sns.lineplot(x='appointment_date', y='count_of_appointments', hue='national_category', data=spring, errorbar= None)\n",
    "plt.title('Number of appointments by National category by month, April 2022')\n",
    "plt.xlabel('Appointment date', fontsize=12)\n",
    "plt.ylabel('Count of appointments', fontsize=12)\n",
    "plt.legend(title='National categories')"
   ]
  },
  {
   "cell_type": "markdown",
   "id": "d70b95c0",
   "metadata": {},
   "source": [
    "# "
   ]
  },
  {
   "cell_type": "markdown",
   "id": "d3513fd2",
   "metadata": {},
   "source": [
    "# Assignment activity 5"
   ]
  },
  {
   "cell_type": "markdown",
   "id": "347b2229",
   "metadata": {},
   "source": [
    "### Analyse tweets from Twitter with hashtags related to healthcare in the UK."
   ]
  },
  {
   "cell_type": "code",
   "execution_count": null,
   "id": "06bc19bb",
   "metadata": {},
   "outputs": [],
   "source": [
    "# Libraries and settings needed for analysis\n",
    "import pandas as pd\n",
    "import seaborn as sns\n",
    "\n",
    "# Set figure size.\n",
    "sns.set(rc={'figure.figsize':(15, 12)})\n",
    "\n",
    "# Set the plot style as white.\n",
    "sns.set_style('white')\n",
    "\n",
    "# Maximum column width to display\n",
    "pd.options.display.max_colwidth = 200"
   ]
  },
  {
   "cell_type": "code",
   "execution_count": null,
   "id": "558dec8e",
   "metadata": {},
   "outputs": [],
   "source": [
    "# Load the data set.\n",
    "tw = pd.read_csv('tweets.csv')\n",
    "\n",
    "# View the DataFrame.\n",
    "tw.head(5)"
   ]
  },
  {
   "cell_type": "code",
   "execution_count": null,
   "id": "b9592370",
   "metadata": {},
   "outputs": [],
   "source": [
    "# Explore the metadata.\n",
    "print(tw.shape)\n",
    "print(tw.columns)\n",
    "print(tw.dtypes)"
   ]
  },
  {
   "cell_type": "code",
   "execution_count": null,
   "id": "9dfcfd06",
   "metadata": {},
   "outputs": [],
   "source": [
    "# Explore the data set, 1\n",
    "tw.describe()"
   ]
  },
  {
   "cell_type": "code",
   "execution_count": null,
   "id": "cadff004",
   "metadata": {},
   "outputs": [],
   "source": [
    "# Explore the data set, 2\n",
    "tw.info()"
   ]
  },
  {
   "cell_type": "code",
   "execution_count": null,
   "id": "afdacb22",
   "metadata": {},
   "outputs": [],
   "source": [
    "# Would it be useful to only look at retweeted and favourite tweet messages?\n",
    "# Explain your answer."
   ]
  },
  {
   "cell_type": "markdown",
   "id": "08420331",
   "metadata": {},
   "source": [
    "Yes, it would be useful to only look at retweeted and favourited tweet messsages as these messages will have had more support and visibility. "
   ]
  },
  {
   "cell_type": "code",
   "execution_count": null,
   "id": "4b94142c",
   "metadata": {},
   "outputs": [],
   "source": [
    "# Create a new DataFrame containing only the text.\n",
    "tweets_text = tw[['tweet_full_text', 'tweet_entities', 'tweet_entities_hashtags']].copy()\n",
    "\n",
    "# View the DataFrame.\n",
    "tweets_text"
   ]
  },
  {
   "cell_type": "code",
   "execution_count": null,
   "id": "c324cdb2",
   "metadata": {},
   "outputs": [],
   "source": [
    "# Loop through the messages, and create a list of values containing the # symbol.\n",
    "tweets_text['tags'] = tweets_text.apply(lambda x: ' '  , axis=1)\n",
    "tweets_text.head(5)"
   ]
  },
  {
   "cell_type": "code",
   "execution_count": null,
   "id": "d53e7968",
   "metadata": {},
   "outputs": [],
   "source": [
    "print(tw['tweet_entities_hashtags'].to_string(index=False))"
   ]
  },
  {
   "cell_type": "code",
   "execution_count": null,
   "id": "4474e073",
   "metadata": {},
   "outputs": [],
   "source": [
    "# Try it another way \n",
    "hashtags = tw.tweet_full_text.str.extractall(\"(#[a-z]+)\")\n",
    "\n",
    "hashtags"
   ]
  },
  {
   "cell_type": "code",
   "execution_count": null,
   "id": "fa7c6479",
   "metadata": {},
   "outputs": [],
   "source": [
    "tags = hashtags[0].unique()\n",
    "tags"
   ]
  },
  {
   "cell_type": "code",
   "execution_count": null,
   "id": "111ee38c",
   "metadata": {},
   "outputs": [],
   "source": [
    "# Display the first 30 records.\n",
    "hashtags.head(30)"
   ]
  },
  {
   "cell_type": "code",
   "execution_count": null,
   "id": "d11bd578",
   "metadata": {},
   "outputs": [],
   "source": [
    "counts = {}\n",
    "for t in tags:\n",
    "    counts[t] = tw.tweet_full_text.str.contains(t).sum()\n",
    "counts"
   ]
  },
  {
   "cell_type": "code",
   "execution_count": null,
   "id": "295d0a78",
   "metadata": {},
   "outputs": [],
   "source": [
    "df3 = pd.DataFrame(index=counts.keys(), data={'Counts': list(counts.values())}) \n",
    "df3\n",
    "\n",
    "df3.sort_values('Counts', ascending=False)"
   ]
  },
  {
   "cell_type": "code",
   "execution_count": null,
   "id": "2d6e72ad",
   "metadata": {},
   "outputs": [],
   "source": [
    "cols = ['Counts']\n",
    "df3[cols] = df3[df3[cols] > 10][cols]\n",
    "df3.dropna()"
   ]
  },
  {
   "cell_type": "code",
   "execution_count": null,
   "id": "ede586bc",
   "metadata": {},
   "outputs": [],
   "source": [
    "# Determine the metadata of the data set.\n",
    "print(df3.shape)\n",
    "print(df3.columns)\n",
    "print(df3.dtypes)"
   ]
  },
  {
   "cell_type": "markdown",
   "id": "5534d8ff",
   "metadata": {},
   "source": [
    "# "
   ]
  },
  {
   "cell_type": "markdown",
   "id": "c04eb259",
   "metadata": {},
   "source": [
    "# Assignment activity 6"
   ]
  },
  {
   "cell_type": "markdown",
   "id": "9579ccd5",
   "metadata": {},
   "source": [
    "### Investigate the main concerns posed by the NHS. "
   ]
  },
  {
   "cell_type": "code",
   "execution_count": null,
   "id": "9e21e577",
   "metadata": {},
   "outputs": [],
   "source": [
    "# View the DataFrame.\n",
    "print(ar.head())"
   ]
  },
  {
   "cell_type": "code",
   "execution_count": null,
   "id": "580ed8c0",
   "metadata": {},
   "outputs": [],
   "source": [
    "# Print the min and max dates.\n",
    "print('Min date:')\n",
    "print(ar['appointment_month'].dt.date.min())\n",
    "print('Max date:')\n",
    "print(ar['appointment_month'].dt.date.max())"
   ]
  },
  {
   "cell_type": "code",
   "execution_count": null,
   "id": "db8cec24",
   "metadata": {},
   "outputs": [],
   "source": [
    "# Filter the data set to only look at data from 2021-08 onwards.\n",
    "ar_new = ar[(ar['appointment_month'] >'2021-08-01') & (ar['appointment_month'] <'2022-06-01')]\n",
    "\n",
    "# Check the filtered DataFrame\n",
    "print('Min date:')\n",
    "print(ar_new['appointment_month'].dt.date.min())\n",
    "print('Max date:')\n",
    "print(ar_new['appointment_month'].dt.date.max())\n",
    "\n",
    "ar_new"
   ]
  },
  {
   "cell_type": "markdown",
   "id": "d6e4b4d8",
   "metadata": {},
   "source": [
    "**Question 1:** Should the NHS start looking at increasing staff levels? "
   ]
  },
  {
   "cell_type": "code",
   "execution_count": null,
   "id": "00805db8",
   "metadata": {},
   "outputs": [],
   "source": [
    "# Create an aggregated data set to review the different features.\n",
    "ar_agg = ar_new.groupby(['appointment_month','hcp_type','appointment_mode',\n",
    "                     'appointment_status','time_between_book_and_appointment'])['count_of_appointments'].sum().reset_index()\n",
    "\n",
    "# View the DataFrame.\n",
    "ar_agg"
   ]
  },
  {
   "cell_type": "code",
   "execution_count": null,
   "id": "4e1dc7cd",
   "metadata": {},
   "outputs": [],
   "source": [
    "# Determine the total number of appointments per month.\n",
    "# Add a new column to indicate the average utilisation of services.\n",
    "ar_df = pd.read_csv('appointments_regional.csv')\n",
    "ar_df = ar_agg.groupby('appointment_month')['count_of_appointments'].sum().reset_index()\n",
    "\n",
    "# Monthly aggregate / 30 to get to a daily value.\n",
    "max_capacity_per_day = 1200000\n",
    "days_in_month = 30\n",
    "ar_df['capacity_utilisation'] = ar_df['count_of_appointments'] / (max_capacity_per_day * days_in_month)\n",
    "\n",
    "# Round the capacity utilisation value to one decimal place.\n",
    "ar_df['rounded_capacity_utilisation'] = ar_df['capacity_utilisation'].round(1)\n",
    "\n",
    "# View the DataFrame.\n",
    "ar_df"
   ]
  },
  {
   "cell_type": "code",
   "execution_count": null,
   "id": "76d9e2c2",
   "metadata": {},
   "outputs": [],
   "source": [
    "# Plot sum of count of monthly visits.\n",
    "attended_app = ar_agg[ar_agg['appointment_status'] == 'Attended']\n",
    "attended_app"
   ]
  },
  {
   "cell_type": "code",
   "execution_count": null,
   "id": "47e98113",
   "metadata": {},
   "outputs": [],
   "source": [
    "# Convert the appointment_month to string data type for ease of visualisation.\n",
    "ar_new = ar_new.astype({'appointment_month':'string'})\n",
    "ar_agg = ar_agg.astype({'appointment_month':'string'})\n",
    "attended_app = attended_app.astype({'appointment_month':'string'})\n",
    "\n",
    "# Check data type of the appointment month has been changed to string\n",
    "checkmonth = ar_new.dtypes['appointment_month']\n",
    "print('Data type of appointment_month column for ar_new:')\n",
    "print(checkmonth)\n",
    "\n",
    "checkmonth = ar_agg.dtypes['appointment_month']\n",
    "print('Data type of appointment_month column for ar_agg:')\n",
    "print(checkmonth)\n",
    "\n",
    "checkmonth = attended_app.dtypes['appointment_month']\n",
    "print('Data type of appointment_month column for attended_app:')\n",
    "print(checkmonth)"
   ]
  },
  {
   "cell_type": "code",
   "execution_count": null,
   "id": "c41635ea",
   "metadata": {},
   "outputs": [],
   "source": [
    "# Create a lineplot with Seaborn.\n",
    "sns.lineplot(x='appointment_month', y='count_of_appointments', data=ar_df, errorbar= None)\n",
    "plt.title('Monthly visits from September 2021 to May 2022')\n",
    "plt.xlabel('Appointment date', fontsize=12)\n",
    "plt.ylabel('Count of appointments', fontsize=12)"
   ]
  },
  {
   "cell_type": "code",
   "execution_count": null,
   "id": "e47e13f4",
   "metadata": {},
   "outputs": [],
   "source": [
    "# Plot monthly capacity utilisation.\n",
    "# Create a lineplot.\n",
    "sns.lineplot(x='appointment_month', y='rounded_capacity_utilisation', data=ar_df, errorbar= None)\n",
    "plt.title('Capacity utilisation from September 2021 to May 2022')\n",
    "plt.xlabel('Appointment date', fontsize=12)\n",
    "plt.ylim(0.6 , 1 )\n",
    "plt.ylabel('Monthly utilisation', fontsize=12)"
   ]
  },
  {
   "cell_type": "markdown",
   "id": "eb893b06",
   "metadata": {},
   "source": [
    "**Question 2:** How do the healthcare professional types differ over time?"
   ]
  },
  {
   "cell_type": "code",
   "execution_count": null,
   "id": "4179ad07",
   "metadata": {},
   "outputs": [],
   "source": [
    "# Create a line plot to answer the question.\n",
    "sns.lineplot(x='appointment_month', y='count_of_appointments', hue='hcp_type', data=ar_agg, errorbar= None)\n",
    "plt.title('Number of appointments per month by HCP type')\n",
    "plt.xlabel('Appointment date', fontsize=12)\n",
    "plt.ylabel('Count of appointments', fontsize=12)\n",
    "plt.legend(title='HCP type')"
   ]
  },
  {
   "cell_type": "markdown",
   "id": "04d7214b",
   "metadata": {},
   "source": [
    "**Question 3:** Are there significant changes in whether or not visits are attended?"
   ]
  },
  {
   "cell_type": "code",
   "execution_count": null,
   "id": "e04c1fea",
   "metadata": {},
   "outputs": [],
   "source": [
    "# Create a line plot to answer the question.\n",
    "sns.lineplot(x='appointment_month', y='count_of_appointments', hue='appointment_status', data=ar_agg, errorbar= None)\n",
    "plt.title('Number of appointments per month by attendance type')\n",
    "plt.xlabel('Appointment date', fontsize=12)\n",
    "plt.ylabel('Count of appointments', fontsize=12)\n",
    "plt.legend(title='Attendance status')"
   ]
  },
  {
   "cell_type": "markdown",
   "id": "7830f29e",
   "metadata": {},
   "source": [
    "**Question 4:** Are there changes in terms of appointment type and the busiest months?"
   ]
  },
  {
   "cell_type": "code",
   "execution_count": null,
   "id": "8b0e203c",
   "metadata": {},
   "outputs": [],
   "source": [
    "# Create a line plot to answer the question.\n",
    "sns.lineplot(x='appointment_month', y='count_of_appointments', hue='appointment_mode', data=ar_agg, errorbar= None)\n",
    "plt.title('Number of appointments per month by appointment type')\n",
    "plt.xlabel('Appointment date', fontsize=12)\n",
    "plt.ylabel('Count of appointments', fontsize=12)\n",
    "plt.legend(title='Appointment type')"
   ]
  },
  {
   "cell_type": "markdown",
   "id": "56b47fa9",
   "metadata": {},
   "source": [
    "**Question 5:** Are there any trends in time between booking an appointment?"
   ]
  },
  {
   "cell_type": "code",
   "execution_count": null,
   "id": "8197701c",
   "metadata": {},
   "outputs": [],
   "source": [
    "# Create a line plot to answer the question.\n",
    "# I do not understand this question. "
   ]
  },
  {
   "cell_type": "markdown",
   "id": "1047943e",
   "metadata": {},
   "source": [
    "**Question 6:** How do the spread of service settings compare?"
   ]
  },
  {
   "cell_type": "code",
   "execution_count": null,
   "id": "85fbdb42",
   "metadata": {},
   "outputs": [],
   "source": [
    "# Let's go back to the national category DataFrame you created in an earlier assignment activity.\n",
    "# Create a new DataFrame consisting of the month of appointment and the number of appointments.\n",
    "nc_new = nc.groupby(\"appointment_month\")[\"count_of_appointments\"].count()\n",
    "# View the DataFrame.\n",
    "nc_new"
   ]
  },
  {
   "cell_type": "code",
   "execution_count": null,
   "id": "9b2f8781",
   "metadata": {},
   "outputs": [],
   "source": [
    "nc_new2 = nc.groupby(['appointment_month', 'service_setting'])['count_of_appointments'].count()\n",
    "nc_new2"
   ]
  },
  {
   "cell_type": "code",
   "execution_count": null,
   "id": "fdb7c0a8",
   "metadata": {},
   "outputs": [],
   "source": [
    "nc_new3 = nc.groupby('service_setting')['count_of_appointments'].count()\n",
    "# View the DataFrame.\n",
    "nc_new3"
   ]
  },
  {
   "cell_type": "code",
   "execution_count": null,
   "id": "1272590f",
   "metadata": {},
   "outputs": [],
   "source": [
    "nc_new4 = nc[['service_setting','count_of_appointments']]\n",
    "# View the DataFrame.\n",
    "nc_new4"
   ]
  },
  {
   "cell_type": "code",
   "execution_count": null,
   "id": "8b524499",
   "metadata": {},
   "outputs": [],
   "source": [
    "# Create a boxplot to investigate spread of service settings.\n",
    "sns.boxplot(data=nc_new4, x= 'service_setting' , y='count_of_appointments')\n",
    "plt.title('Number of appointments by HCP type')\n",
    "plt.xlabel('HCP type', fontsize=12)\n",
    "plt.ylabel('Count of appointments', fontsize=12)"
   ]
  },
  {
   "cell_type": "code",
   "execution_count": null,
   "id": "e9a6dd60",
   "metadata": {},
   "outputs": [],
   "source": [
    "nc_nogp= nc_new4.loc[nc_new4['service_setting'] != 'General Practice']\n",
    "nc_nogp"
   ]
  },
  {
   "cell_type": "code",
   "execution_count": null,
   "id": "7e2f887d",
   "metadata": {},
   "outputs": [],
   "source": [
    "# Create a boxplot to investigate spread of service settings.\n",
    "sns.boxplot(data=nc_nogp, x= 'service_setting' , y='count_of_appointments')\n",
    "plt.title('Number of appointments by HCP type, excluding General Practice')\n",
    "plt.xlabel('HCP type', fontsize=12)\n",
    "plt.ylabel('Count of appointments', fontsize=12)"
   ]
  }
 ],
 "metadata": {
  "kernelspec": {
   "display_name": "Python 3 (ipykernel)",
   "language": "python",
   "name": "python3"
  },
  "language_info": {
   "codemirror_mode": {
    "name": "ipython",
    "version": 3
   },
   "file_extension": ".py",
   "mimetype": "text/x-python",
   "name": "python",
   "nbconvert_exporter": "python",
   "pygments_lexer": "ipython3",
   "version": "3.10.9"
  }
 },
 "nbformat": 4,
 "nbformat_minor": 5
}
